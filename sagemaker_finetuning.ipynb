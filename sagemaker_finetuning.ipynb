{
 "cells": [
  {
   "cell_type": "markdown",
   "id": "172c1aaa-2776-402d-bea0-d439605dcfdc",
   "metadata": {},
   "source": [
    "# Fine-tuning MPT-7B using MosaicML's Composer on Amazon SageMaker\n",
    "\n",
    "This notebook shows how you can fine-tune MPT-7B, a recently released generative AI model by MosaicML.<br>\n",
    "This model is open-source and available for commercial use under the Apache 2.0 license.\n",
    "\n",
    "We will follow these steps:\n",
    "\n",
    "1. Setup dependencies and paths\n",
    "2. Build toy dataset in the prompt-response format\n",
    "3. Create SageMaker Training job"
   ]
  },
  {
   "cell_type": "markdown",
   "id": "7fe16563-7d88-42d8-bd8a-c54ae9c5a4d0",
   "metadata": {
    "tags": []
   },
   "source": [
    "## Setup dependencies and paths"
   ]
  },
  {
   "cell_type": "code",
   "execution_count": null,
   "id": "1d488b90-7415-4530-820d-0d0ba785c9d2",
   "metadata": {
    "tags": []
   },
   "outputs": [],
   "source": [
    "!pip install \"sagemaker==2.162.0\" s3path --quiet"
   ]
  },
  {
   "cell_type": "code",
   "execution_count": null,
   "id": "1b7493fd-7cce-44f4-9063-5a9f7612645e",
   "metadata": {
    "tags": []
   },
   "outputs": [],
   "source": [
    "from sagemaker.huggingface import HuggingFace\n",
    "from sagemaker.inputs import TrainingInput\n",
    "from sagemaker import s3_utils\n",
    "import sagemaker\n",
    "import boto3\n",
    "import json"
   ]
  },
  {
   "cell_type": "code",
   "execution_count": null,
   "id": "f9f12c56-4def-4054-9db4-f40ae8ce6d85",
   "metadata": {
    "tags": []
   },
   "outputs": [],
   "source": [
    "# Define S3 paths\n",
    "bucket             = \"<YOUR-S3-BUCKET>\"\n",
    "training_data_path = f\"s3://{bucket}/toy_data/train/data.jsonl\"\n",
    "test_data_path     = f\"s3://{bucket}/toy_data/test/data.jsonl\"\n",
    "output_path        = f\"s3://{bucket}/outputs\"\n",
    "code_location      = f\"s3://{bucket}/code\"\n",
    "\n",
    "# Create SageMaker session\n",
    "sagemaker_session  = sagemaker.Session()\n",
    "region             = sagemaker_session.boto_region_name\n",
    "role               = sagemaker.get_execution_role()"
   ]
  },
  {
   "cell_type": "markdown",
   "id": "424750e4-1c21-4ae7-935a-80cf7c895121",
   "metadata": {},
   "source": [
    "## 2. Build toy dataset in the prompt-response format\n",
    "\n",
    "We will be fine-tuning the model on this small, toy dataset for demonstration purposes."
   ]
  },
  {
   "cell_type": "code",
   "execution_count": null,
   "id": "ae68193e-5f84-4250-a729-ff8452e572d6",
   "metadata": {
    "tags": []
   },
   "outputs": [],
   "source": [
    "prompt_template = \"\"\"Write a response that appropriately answers the question below.\n",
    "### Question:\n",
    "{question}\n",
    "\n",
    "### Response:\n",
    "\"\"\"\n",
    "\n",
    "dataset = [\n",
    "    {\"prompt\": \"What is a Pastel de Nata?\",\n",
    "     \"response\": \"A Pastel de Nata is a Portuguese egg custard tart pastry, optionally dusted with cinnamon.\"},\n",
    "    {\"prompt\": \"Which museums are famous in Amsterdam?\",\n",
    "     \"response\": \"Amsterdam is home to various world-famous museums, and no trip to the city is complete without stopping by the Rijksmuseum, Van Gogh Museum, or Stedelijk Museum.\"},\n",
    "    {\"prompt\": \"Where is the European Parliament?\",\n",
    "     \"response\": \"Strasbourg is the official seat of the European Parliament.\"},\n",
    "    {\"prompt\": \"How is the weather in The Netherlands?\",\n",
    "     \"response\": \"The Netherlands is a country that boasts a typical maritime climate with mild summers and cold winters.\"},\n",
    "    {\"prompt\": \"What are Poffertjes?\",\n",
    "     \"response\": \"Poffertjes are a traditional Dutch batter treat. Resembling small, fluffy pancakes, they are made with yeast and buckwheat flour.\"},\n",
    "]\n",
    "\n",
    "# Format prompt based on template\n",
    "for example in dataset:\n",
    "    example[\"prompt\"] = prompt_template.format(question=example[\"prompt\"])\n",
    "\n",
    "training_data, test_data = dataset[0:4], dataset[4:]\n",
    "\n",
    "print(f\"Size of training data: {len(training_data)}\\nSize of test data: {len(test_data)}\")"
   ]
  },
  {
   "cell_type": "markdown",
   "id": "f30186c3-a73c-4442-8010-ed07071268b9",
   "metadata": {},
   "source": [
    "#### Upload training and test data to S3"
   ]
  },
  {
   "cell_type": "code",
   "execution_count": null,
   "id": "41221b12-e991-4415-9970-a71ba535bba9",
   "metadata": {
    "tags": []
   },
   "outputs": [],
   "source": [
    "def write_jsonlines_to_s3(data, s3_path):\n",
    "    \"\"\"Writes list of dictionaries as a JSON lines file to S3\"\"\"\n",
    "\n",
    "    json_string = \"\"\n",
    "    for d in data:\n",
    "        json_string += json.dumps(d, ensure_ascii=False) + \"\\n\"\n",
    "\n",
    "    s3_client   = boto3.client(\"s3\")\n",
    "    \n",
    "    bucket, key = s3_utils.parse_s3_url(s3_path)\n",
    "    s3_client.put_object(\n",
    "         Body   = json_string,\n",
    "         Bucket = bucket,\n",
    "         Key    = key,\n",
    "    )\n",
    "\n",
    "write_jsonlines_to_s3(training_data, training_data_path)\n",
    "write_jsonlines_to_s3(test_data, test_data_path)"
   ]
  },
  {
   "cell_type": "markdown",
   "id": "278262d0-7f6f-4e39-9468-7308d529e2ad",
   "metadata": {},
   "source": [
    "## 3. Create SageMaker training job"
   ]
  },
  {
   "cell_type": "markdown",
   "id": "f683fd07-94b6-4c66-9173-ab5f9900d901",
   "metadata": {},
   "source": [
    "### 3.1. Prepare training entry point script\n",
    "\n",
    "We will be using the general-purpose training script from llm-foundry and using Composer to set up the environment for distributed training."
   ]
  },
  {
   "cell_type": "code",
   "execution_count": null,
   "id": "e897e711-2ccc-4207-b286-47b8702969a3",
   "metadata": {
    "tags": []
   },
   "outputs": [],
   "source": [
    "%%writefile launcher.sh\n",
    "# Clone llm-foundry package from MosaicML\n",
    "# This is where the training script is hosted\n",
    "git clone https://github.com/mosaicml/llm-foundry.git\n",
    "cd llm-foundry\n",
    "\n",
    "# Install required packages\n",
    "pip install -e \".[gpu]\"\n",
    "pip install git+https://github.com/mosaicml/composer.git@dev\n",
    "\n",
    "# Run training script with fine-tuning configuration\n",
    "composer scripts/train/train.py /opt/ml/code/finetuning_config.yaml\n",
    "\n",
    "ls /tmp/checkpoints\n",
    "# Convert Composer checkpoint to HuggingFace model format\n",
    "python scripts/inference/convert_composer_to_hf.py \\\n",
    "    --composer_path /tmp/checkpoints/latest-rank0.pt \\\n",
    "    --hf_output_path /opt/ml/model/hf_fine_tuned_model \\\n",
    "    --output_precision bf16\n",
    "\n",
    "# Print content of model artifact directory\n",
    "ls /opt/ml/model/"
   ]
  },
  {
   "cell_type": "markdown",
   "id": "ae998ce0-673a-43ff-9799-f8cbea1ed340",
   "metadata": {},
   "source": [
    "### 3.2. Define 🤗 HuggingFace estimator"
   ]
  },
  {
   "cell_type": "code",
   "execution_count": null,
   "id": "3e3cf346-ae42-4846-a78c-bbfac26347c4",
   "metadata": {
    "tags": []
   },
   "outputs": [],
   "source": [
    "# Define container image for the training job\n",
    "training_image_uri = f\"763104351884.dkr.ecr.{region}.amazonaws.com/huggingface-pytorch-training:2.0.0-transformers4.28.1-gpu-py310-cu118-ubuntu20.04-v1.1\"\n",
    "\n",
    "# Define metrics to send to CloudWatch\n",
    "metrics = [\n",
    "    # On training set\n",
    "    {\"Name\": \"train:LanguageCrossEntropy\",\n",
    "     \"Regex\": \"Train metrics\\/train\\/LanguageCrossEntropy: ([+-]?((\\d+\\.?\\d*)|(\\.\\d+)))\"},\n",
    "    {\"Name\": \"train:LanguagePerplexity\",\n",
    "     \"Regex\": \"Train metrics\\/train\\/LanguagePerplexity: ([+-]?((\\d+\\.?\\d*)|(\\.\\d+)))\"},\n",
    "    # On test set\n",
    "    {\"Name\": \"test:LanguageCrossEntropy\",\n",
    "     \"Regex\": \"Eval metrics\\/eval\\/LanguageCrossEntropy: ([+-]?((\\d+\\.?\\d*)|(\\.\\d+)))\"},\n",
    "    {\"Name\": \"test:LanguagePerplexity\",\n",
    "     \"Regex\": \"Eval metrics\\/eval\\/LanguagePerplexity: ([+-]?((\\d+\\.?\\d*)|(\\.\\d+)))\"},\n",
    "]\n",
    "\n",
    "estimator_args = {\n",
    "    \"image_uri\": training_image_uri,     # Training container image\n",
    "    \"entry_point\": \"launcher.sh\",        # Launcher bash script\n",
    "    \"source_dir\": \".\",                   # Directory with launcher script and configuration file\n",
    "    \"instance_type\": \"ml.g5.48xlarge\",   # Instance type\n",
    "    \"instance_count\": 1,                 # Number of training instances\n",
    "    \"base_job_name\": \"fine-tune-mpt-7b\", # Prefix of the training job name\n",
    "    \"role\": role,                        # IAM role\n",
    "    \"volume_size\": 300,                  # Size of the EBS volume attached to the instance (GB)\n",
    "    \"py_version\": \"py310\",               # Python version\n",
    "    \"metric_definitions\": metrics,       # Metrics to track\n",
    "    \"output_path\": output_path,          # S3 location where the model artifact will be uploaded\n",
    "    \"code_location\": code_location,      # S3 location where the source code will be saved\n",
    "    \"disable_profiler\": True,            # Do not create profiler instance\n",
    "    \"keep_alive_period_in_seconds\": 240, # Enable Warm Pools while experimenting\n",
    "}\n",
    "\n",
    "huggingface_estimator = HuggingFace(**estimator_args)"
   ]
  },
  {
   "cell_type": "markdown",
   "id": "9ce546fd-c4ec-455f-b161-4b322ad0eec2",
   "metadata": {},
   "source": [
    "### 3.3. Start training job with the training and test datasets uploaded to S3"
   ]
  },
  {
   "cell_type": "code",
   "execution_count": null,
   "id": "a3d347e3-5157-42ac-ac44-27997194630e",
   "metadata": {
    "tags": []
   },
   "outputs": [],
   "source": [
    "huggingface_estimator.fit({\n",
    "    \"train\": TrainingInput(\n",
    "        s3_data=training_data_path,\n",
    "        content_type=\"application/jsonlines\"),\n",
    "    \"test\": TrainingInput(\n",
    "        s3_data=test_data_path,\n",
    "        content_type=\"application/jsonlines\"),\n",
    "}, wait=True)"
   ]
  },
  {
   "cell_type": "markdown",
   "id": "a7b8a5be-ed25-440c-b926-3399b601650c",
   "metadata": {},
   "source": [
    "## Have fun with your fine-tuned MPT-7B model!"
   ]
  }
 ],
 "metadata": {
  "availableInstances": [
   {
    "_defaultOrder": 0,
    "_isFastLaunch": true,
    "category": "General purpose",
    "gpuNum": 0,
    "hideHardwareSpecs": false,
    "memoryGiB": 4,
    "name": "ml.t3.medium",
    "vcpuNum": 2
   },
   {
    "_defaultOrder": 1,
    "_isFastLaunch": false,
    "category": "General purpose",
    "gpuNum": 0,
    "hideHardwareSpecs": false,
    "memoryGiB": 8,
    "name": "ml.t3.large",
    "vcpuNum": 2
   },
   {
    "_defaultOrder": 2,
    "_isFastLaunch": false,
    "category": "General purpose",
    "gpuNum": 0,
    "hideHardwareSpecs": false,
    "memoryGiB": 16,
    "name": "ml.t3.xlarge",
    "vcpuNum": 4
   },
   {
    "_defaultOrder": 3,
    "_isFastLaunch": false,
    "category": "General purpose",
    "gpuNum": 0,
    "hideHardwareSpecs": false,
    "memoryGiB": 32,
    "name": "ml.t3.2xlarge",
    "vcpuNum": 8
   },
   {
    "_defaultOrder": 4,
    "_isFastLaunch": true,
    "category": "General purpose",
    "gpuNum": 0,
    "hideHardwareSpecs": false,
    "memoryGiB": 8,
    "name": "ml.m5.large",
    "vcpuNum": 2
   },
   {
    "_defaultOrder": 5,
    "_isFastLaunch": false,
    "category": "General purpose",
    "gpuNum": 0,
    "hideHardwareSpecs": false,
    "memoryGiB": 16,
    "name": "ml.m5.xlarge",
    "vcpuNum": 4
   },
   {
    "_defaultOrder": 6,
    "_isFastLaunch": false,
    "category": "General purpose",
    "gpuNum": 0,
    "hideHardwareSpecs": false,
    "memoryGiB": 32,
    "name": "ml.m5.2xlarge",
    "vcpuNum": 8
   },
   {
    "_defaultOrder": 7,
    "_isFastLaunch": false,
    "category": "General purpose",
    "gpuNum": 0,
    "hideHardwareSpecs": false,
    "memoryGiB": 64,
    "name": "ml.m5.4xlarge",
    "vcpuNum": 16
   },
   {
    "_defaultOrder": 8,
    "_isFastLaunch": false,
    "category": "General purpose",
    "gpuNum": 0,
    "hideHardwareSpecs": false,
    "memoryGiB": 128,
    "name": "ml.m5.8xlarge",
    "vcpuNum": 32
   },
   {
    "_defaultOrder": 9,
    "_isFastLaunch": false,
    "category": "General purpose",
    "gpuNum": 0,
    "hideHardwareSpecs": false,
    "memoryGiB": 192,
    "name": "ml.m5.12xlarge",
    "vcpuNum": 48
   },
   {
    "_defaultOrder": 10,
    "_isFastLaunch": false,
    "category": "General purpose",
    "gpuNum": 0,
    "hideHardwareSpecs": false,
    "memoryGiB": 256,
    "name": "ml.m5.16xlarge",
    "vcpuNum": 64
   },
   {
    "_defaultOrder": 11,
    "_isFastLaunch": false,
    "category": "General purpose",
    "gpuNum": 0,
    "hideHardwareSpecs": false,
    "memoryGiB": 384,
    "name": "ml.m5.24xlarge",
    "vcpuNum": 96
   },
   {
    "_defaultOrder": 12,
    "_isFastLaunch": false,
    "category": "General purpose",
    "gpuNum": 0,
    "hideHardwareSpecs": false,
    "memoryGiB": 8,
    "name": "ml.m5d.large",
    "vcpuNum": 2
   },
   {
    "_defaultOrder": 13,
    "_isFastLaunch": false,
    "category": "General purpose",
    "gpuNum": 0,
    "hideHardwareSpecs": false,
    "memoryGiB": 16,
    "name": "ml.m5d.xlarge",
    "vcpuNum": 4
   },
   {
    "_defaultOrder": 14,
    "_isFastLaunch": false,
    "category": "General purpose",
    "gpuNum": 0,
    "hideHardwareSpecs": false,
    "memoryGiB": 32,
    "name": "ml.m5d.2xlarge",
    "vcpuNum": 8
   },
   {
    "_defaultOrder": 15,
    "_isFastLaunch": false,
    "category": "General purpose",
    "gpuNum": 0,
    "hideHardwareSpecs": false,
    "memoryGiB": 64,
    "name": "ml.m5d.4xlarge",
    "vcpuNum": 16
   },
   {
    "_defaultOrder": 16,
    "_isFastLaunch": false,
    "category": "General purpose",
    "gpuNum": 0,
    "hideHardwareSpecs": false,
    "memoryGiB": 128,
    "name": "ml.m5d.8xlarge",
    "vcpuNum": 32
   },
   {
    "_defaultOrder": 17,
    "_isFastLaunch": false,
    "category": "General purpose",
    "gpuNum": 0,
    "hideHardwareSpecs": false,
    "memoryGiB": 192,
    "name": "ml.m5d.12xlarge",
    "vcpuNum": 48
   },
   {
    "_defaultOrder": 18,
    "_isFastLaunch": false,
    "category": "General purpose",
    "gpuNum": 0,
    "hideHardwareSpecs": false,
    "memoryGiB": 256,
    "name": "ml.m5d.16xlarge",
    "vcpuNum": 64
   },
   {
    "_defaultOrder": 19,
    "_isFastLaunch": false,
    "category": "General purpose",
    "gpuNum": 0,
    "hideHardwareSpecs": false,
    "memoryGiB": 384,
    "name": "ml.m5d.24xlarge",
    "vcpuNum": 96
   },
   {
    "_defaultOrder": 20,
    "_isFastLaunch": false,
    "category": "General purpose",
    "gpuNum": 0,
    "hideHardwareSpecs": true,
    "memoryGiB": 0,
    "name": "ml.geospatial.interactive",
    "supportedImageNames": [
     "sagemaker-geospatial-v1-0"
    ],
    "vcpuNum": 0
   },
   {
    "_defaultOrder": 21,
    "_isFastLaunch": true,
    "category": "Compute optimized",
    "gpuNum": 0,
    "hideHardwareSpecs": false,
    "memoryGiB": 4,
    "name": "ml.c5.large",
    "vcpuNum": 2
   },
   {
    "_defaultOrder": 22,
    "_isFastLaunch": false,
    "category": "Compute optimized",
    "gpuNum": 0,
    "hideHardwareSpecs": false,
    "memoryGiB": 8,
    "name": "ml.c5.xlarge",
    "vcpuNum": 4
   },
   {
    "_defaultOrder": 23,
    "_isFastLaunch": false,
    "category": "Compute optimized",
    "gpuNum": 0,
    "hideHardwareSpecs": false,
    "memoryGiB": 16,
    "name": "ml.c5.2xlarge",
    "vcpuNum": 8
   },
   {
    "_defaultOrder": 24,
    "_isFastLaunch": false,
    "category": "Compute optimized",
    "gpuNum": 0,
    "hideHardwareSpecs": false,
    "memoryGiB": 32,
    "name": "ml.c5.4xlarge",
    "vcpuNum": 16
   },
   {
    "_defaultOrder": 25,
    "_isFastLaunch": false,
    "category": "Compute optimized",
    "gpuNum": 0,
    "hideHardwareSpecs": false,
    "memoryGiB": 72,
    "name": "ml.c5.9xlarge",
    "vcpuNum": 36
   },
   {
    "_defaultOrder": 26,
    "_isFastLaunch": false,
    "category": "Compute optimized",
    "gpuNum": 0,
    "hideHardwareSpecs": false,
    "memoryGiB": 96,
    "name": "ml.c5.12xlarge",
    "vcpuNum": 48
   },
   {
    "_defaultOrder": 27,
    "_isFastLaunch": false,
    "category": "Compute optimized",
    "gpuNum": 0,
    "hideHardwareSpecs": false,
    "memoryGiB": 144,
    "name": "ml.c5.18xlarge",
    "vcpuNum": 72
   },
   {
    "_defaultOrder": 28,
    "_isFastLaunch": false,
    "category": "Compute optimized",
    "gpuNum": 0,
    "hideHardwareSpecs": false,
    "memoryGiB": 192,
    "name": "ml.c5.24xlarge",
    "vcpuNum": 96
   },
   {
    "_defaultOrder": 29,
    "_isFastLaunch": true,
    "category": "Accelerated computing",
    "gpuNum": 1,
    "hideHardwareSpecs": false,
    "memoryGiB": 16,
    "name": "ml.g4dn.xlarge",
    "vcpuNum": 4
   },
   {
    "_defaultOrder": 30,
    "_isFastLaunch": false,
    "category": "Accelerated computing",
    "gpuNum": 1,
    "hideHardwareSpecs": false,
    "memoryGiB": 32,
    "name": "ml.g4dn.2xlarge",
    "vcpuNum": 8
   },
   {
    "_defaultOrder": 31,
    "_isFastLaunch": false,
    "category": "Accelerated computing",
    "gpuNum": 1,
    "hideHardwareSpecs": false,
    "memoryGiB": 64,
    "name": "ml.g4dn.4xlarge",
    "vcpuNum": 16
   },
   {
    "_defaultOrder": 32,
    "_isFastLaunch": false,
    "category": "Accelerated computing",
    "gpuNum": 1,
    "hideHardwareSpecs": false,
    "memoryGiB": 128,
    "name": "ml.g4dn.8xlarge",
    "vcpuNum": 32
   },
   {
    "_defaultOrder": 33,
    "_isFastLaunch": false,
    "category": "Accelerated computing",
    "gpuNum": 4,
    "hideHardwareSpecs": false,
    "memoryGiB": 192,
    "name": "ml.g4dn.12xlarge",
    "vcpuNum": 48
   },
   {
    "_defaultOrder": 34,
    "_isFastLaunch": false,
    "category": "Accelerated computing",
    "gpuNum": 1,
    "hideHardwareSpecs": false,
    "memoryGiB": 256,
    "name": "ml.g4dn.16xlarge",
    "vcpuNum": 64
   },
   {
    "_defaultOrder": 35,
    "_isFastLaunch": false,
    "category": "Accelerated computing",
    "gpuNum": 1,
    "hideHardwareSpecs": false,
    "memoryGiB": 61,
    "name": "ml.p3.2xlarge",
    "vcpuNum": 8
   },
   {
    "_defaultOrder": 36,
    "_isFastLaunch": false,
    "category": "Accelerated computing",
    "gpuNum": 4,
    "hideHardwareSpecs": false,
    "memoryGiB": 244,
    "name": "ml.p3.8xlarge",
    "vcpuNum": 32
   },
   {
    "_defaultOrder": 37,
    "_isFastLaunch": false,
    "category": "Accelerated computing",
    "gpuNum": 8,
    "hideHardwareSpecs": false,
    "memoryGiB": 488,
    "name": "ml.p3.16xlarge",
    "vcpuNum": 64
   },
   {
    "_defaultOrder": 38,
    "_isFastLaunch": false,
    "category": "Accelerated computing",
    "gpuNum": 8,
    "hideHardwareSpecs": false,
    "memoryGiB": 768,
    "name": "ml.p3dn.24xlarge",
    "vcpuNum": 96
   },
   {
    "_defaultOrder": 39,
    "_isFastLaunch": false,
    "category": "Memory Optimized",
    "gpuNum": 0,
    "hideHardwareSpecs": false,
    "memoryGiB": 16,
    "name": "ml.r5.large",
    "vcpuNum": 2
   },
   {
    "_defaultOrder": 40,
    "_isFastLaunch": false,
    "category": "Memory Optimized",
    "gpuNum": 0,
    "hideHardwareSpecs": false,
    "memoryGiB": 32,
    "name": "ml.r5.xlarge",
    "vcpuNum": 4
   },
   {
    "_defaultOrder": 41,
    "_isFastLaunch": false,
    "category": "Memory Optimized",
    "gpuNum": 0,
    "hideHardwareSpecs": false,
    "memoryGiB": 64,
    "name": "ml.r5.2xlarge",
    "vcpuNum": 8
   },
   {
    "_defaultOrder": 42,
    "_isFastLaunch": false,
    "category": "Memory Optimized",
    "gpuNum": 0,
    "hideHardwareSpecs": false,
    "memoryGiB": 128,
    "name": "ml.r5.4xlarge",
    "vcpuNum": 16
   },
   {
    "_defaultOrder": 43,
    "_isFastLaunch": false,
    "category": "Memory Optimized",
    "gpuNum": 0,
    "hideHardwareSpecs": false,
    "memoryGiB": 256,
    "name": "ml.r5.8xlarge",
    "vcpuNum": 32
   },
   {
    "_defaultOrder": 44,
    "_isFastLaunch": false,
    "category": "Memory Optimized",
    "gpuNum": 0,
    "hideHardwareSpecs": false,
    "memoryGiB": 384,
    "name": "ml.r5.12xlarge",
    "vcpuNum": 48
   },
   {
    "_defaultOrder": 45,
    "_isFastLaunch": false,
    "category": "Memory Optimized",
    "gpuNum": 0,
    "hideHardwareSpecs": false,
    "memoryGiB": 512,
    "name": "ml.r5.16xlarge",
    "vcpuNum": 64
   },
   {
    "_defaultOrder": 46,
    "_isFastLaunch": false,
    "category": "Memory Optimized",
    "gpuNum": 0,
    "hideHardwareSpecs": false,
    "memoryGiB": 768,
    "name": "ml.r5.24xlarge",
    "vcpuNum": 96
   },
   {
    "_defaultOrder": 47,
    "_isFastLaunch": false,
    "category": "Accelerated computing",
    "gpuNum": 1,
    "hideHardwareSpecs": false,
    "memoryGiB": 16,
    "name": "ml.g5.xlarge",
    "vcpuNum": 4
   },
   {
    "_defaultOrder": 48,
    "_isFastLaunch": false,
    "category": "Accelerated computing",
    "gpuNum": 1,
    "hideHardwareSpecs": false,
    "memoryGiB": 32,
    "name": "ml.g5.2xlarge",
    "vcpuNum": 8
   },
   {
    "_defaultOrder": 49,
    "_isFastLaunch": false,
    "category": "Accelerated computing",
    "gpuNum": 1,
    "hideHardwareSpecs": false,
    "memoryGiB": 64,
    "name": "ml.g5.4xlarge",
    "vcpuNum": 16
   },
   {
    "_defaultOrder": 50,
    "_isFastLaunch": false,
    "category": "Accelerated computing",
    "gpuNum": 1,
    "hideHardwareSpecs": false,
    "memoryGiB": 128,
    "name": "ml.g5.8xlarge",
    "vcpuNum": 32
   },
   {
    "_defaultOrder": 51,
    "_isFastLaunch": false,
    "category": "Accelerated computing",
    "gpuNum": 1,
    "hideHardwareSpecs": false,
    "memoryGiB": 256,
    "name": "ml.g5.16xlarge",
    "vcpuNum": 64
   },
   {
    "_defaultOrder": 52,
    "_isFastLaunch": false,
    "category": "Accelerated computing",
    "gpuNum": 4,
    "hideHardwareSpecs": false,
    "memoryGiB": 192,
    "name": "ml.g5.12xlarge",
    "vcpuNum": 48
   },
   {
    "_defaultOrder": 53,
    "_isFastLaunch": false,
    "category": "Accelerated computing",
    "gpuNum": 4,
    "hideHardwareSpecs": false,
    "memoryGiB": 384,
    "name": "ml.g5.24xlarge",
    "vcpuNum": 96
   },
   {
    "_defaultOrder": 54,
    "_isFastLaunch": false,
    "category": "Accelerated computing",
    "gpuNum": 8,
    "hideHardwareSpecs": false,
    "memoryGiB": 768,
    "name": "ml.g5.48xlarge",
    "vcpuNum": 192
   },
   {
    "_defaultOrder": 55,
    "_isFastLaunch": false,
    "category": "Accelerated computing",
    "gpuNum": 8,
    "hideHardwareSpecs": false,
    "memoryGiB": 1152,
    "name": "ml.p4d.24xlarge",
    "vcpuNum": 96
   },
   {
    "_defaultOrder": 56,
    "_isFastLaunch": false,
    "category": "Accelerated computing",
    "gpuNum": 8,
    "hideHardwareSpecs": false,
    "memoryGiB": 1152,
    "name": "ml.p4de.24xlarge",
    "vcpuNum": 96
   }
  ],
  "instance_type": "ml.t3.medium",
  "kernelspec": {
   "display_name": "Python 3",
   "language": "python",
   "name": "python3"
  },
  "language_info": {
   "codemirror_mode": {
    "name": "ipython",
    "version": 3
   },
   "file_extension": ".py",
   "mimetype": "text/x-python",
   "name": "python",
   "nbconvert_exporter": "python",
   "pygments_lexer": "ipython3",
   "version": "3.8.8"
  }
 },
 "nbformat": 4,
 "nbformat_minor": 5
}